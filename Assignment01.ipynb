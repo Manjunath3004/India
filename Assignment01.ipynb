{
 "cells": [
  {
   "cell_type": "code",
   "execution_count": null,
   "id": "9571caac",
   "metadata": {},
   "outputs": [],
   "source": [
    "# 001 Task - What is the result of 5 + 3?"
   ]
  },
  {
   "cell_type": "code",
   "execution_count": 1,
   "id": "beebaa70",
   "metadata": {},
   "outputs": [
    {
     "name": "stdout",
     "output_type": "stream",
     "text": [
      "8\n"
     ]
    }
   ],
   "source": [
    "res = 5+3\n",
    "print(res)"
   ]
  },
  {
   "cell_type": "code",
   "execution_count": null,
   "id": "48ab357c",
   "metadata": {},
   "outputs": [],
   "source": [
    "# 002 Task - Evaluate the expression 10 - 4."
   ]
  },
  {
   "cell_type": "code",
   "execution_count": 2,
   "id": "17da257b",
   "metadata": {},
   "outputs": [
    {
     "name": "stdout",
     "output_type": "stream",
     "text": [
      "6\n"
     ]
    }
   ],
   "source": [
    "a = 10-4\n",
    "print(a)"
   ]
  },
  {
   "cell_type": "code",
   "execution_count": null,
   "id": "6c5798c7",
   "metadata": {},
   "outputs": [],
   "source": [
    "# 003 Task - Calculate the value of 6 * 7."
   ]
  },
  {
   "cell_type": "code",
   "execution_count": 3,
   "id": "7b61e030",
   "metadata": {},
   "outputs": [
    {
     "name": "stdout",
     "output_type": "stream",
     "text": [
      "42\n"
     ]
    }
   ],
   "source": [
    "a = 6*7\n",
    "print(a)"
   ]
  },
  {
   "cell_type": "code",
   "execution_count": null,
   "id": "3f509cf1",
   "metadata": {},
   "outputs": [],
   "source": [
    "# 004 Task - Compute the result of 15 / 3."
   ]
  },
  {
   "cell_type": "code",
   "execution_count": 4,
   "id": "f625b957",
   "metadata": {},
   "outputs": [
    {
     "name": "stdout",
     "output_type": "stream",
     "text": [
      "5.0\n"
     ]
    }
   ],
   "source": [
    "res = 15/3\n",
    "print(res)"
   ]
  },
  {
   "cell_type": "code",
   "execution_count": null,
   "id": "199e67d1",
   "metadata": {},
   "outputs": [],
   "source": [
    "# 005 Task - What is the output of 10 // 3?"
   ]
  },
  {
   "cell_type": "code",
   "execution_count": 5,
   "id": "e82d3d59",
   "metadata": {},
   "outputs": [
    {
     "name": "stdout",
     "output_type": "stream",
     "text": [
      "3\n"
     ]
    }
   ],
   "source": [
    "res = 10//3\n",
    "print(res)"
   ]
  },
  {
   "cell_type": "code",
   "execution_count": null,
   "id": "3052e77e",
   "metadata": {},
   "outputs": [],
   "source": [
    "# 006 Task - Calculate the remainder of 12 % 5."
   ]
  },
  {
   "cell_type": "code",
   "execution_count": 7,
   "id": "cad0af78",
   "metadata": {},
   "outputs": [
    {
     "name": "stdout",
     "output_type": "stream",
     "text": [
      "2\n"
     ]
    }
   ],
   "source": [
    "b = 12 % 5\n",
    "print(b)"
   ]
  },
  {
   "cell_type": "code",
   "execution_count": null,
   "id": "31a9157e",
   "metadata": {},
   "outputs": [],
   "source": [
    "# 007 Task - Evaluate 2 ** 4 (2 raised to the power of 4)."
   ]
  },
  {
   "cell_type": "code",
   "execution_count": 8,
   "id": "b39cd255",
   "metadata": {},
   "outputs": [
    {
     "name": "stdout",
     "output_type": "stream",
     "text": [
      "16\n"
     ]
    }
   ],
   "source": [
    "a = 2**4\n",
    "print(a)"
   ]
  },
  {
   "cell_type": "code",
   "execution_count": null,
   "id": "203f36d5",
   "metadata": {},
   "outputs": [],
   "source": [
    "# 008 Task - Given x = 5 and y = 3, what is the value of x + y * 2?"
   ]
  },
  {
   "cell_type": "code",
   "execution_count": 9,
   "id": "f0b1fe4a",
   "metadata": {},
   "outputs": [
    {
     "name": "stdout",
     "output_type": "stream",
     "text": [
      "11\n"
     ]
    }
   ],
   "source": [
    "x = 5\n",
    "y = 3\n",
    "res =x + y *2\n",
    "print(res)"
   ]
  },
  {
   "cell_type": "code",
   "execution_count": null,
   "id": "d01f97bb",
   "metadata": {},
   "outputs": [],
   "source": [
    "#009 Task - Evaluate the expression: 7 > 5."
   ]
  },
  {
   "cell_type": "code",
   "execution_count": 10,
   "id": "d491aa41",
   "metadata": {},
   "outputs": [
    {
     "name": "stdout",
     "output_type": "stream",
     "text": [
      "True\n"
     ]
    }
   ],
   "source": [
    "a = 7 > 5\n",
    "print(a)"
   ]
  },
  {
   "cell_type": "code",
   "execution_count": null,
   "id": "0f52776e",
   "metadata": {},
   "outputs": [],
   "source": [
    "#010 Task - Is the statement 10 < 5 true or false?"
   ]
  },
  {
   "cell_type": "code",
   "execution_count": 11,
   "id": "c7f8107b",
   "metadata": {},
   "outputs": [
    {
     "name": "stdout",
     "output_type": "stream",
     "text": [
      "False\n"
     ]
    }
   ],
   "source": [
    "a = 10 < 5\n",
    "print(a)"
   ]
  },
  {
   "cell_type": "code",
   "execution_count": null,
   "id": "075b08cf",
   "metadata": {},
   "outputs": [],
   "source": [
    "#011 Task - Determine the result of 8 >= 8."
   ]
  },
  {
   "cell_type": "code",
   "execution_count": 12,
   "id": "f9d4e0c6",
   "metadata": {},
   "outputs": [
    {
     "name": "stdout",
     "output_type": "stream",
     "text": [
      "True\n"
     ]
    }
   ],
   "source": [
    "res = 8 >= 8\n",
    "print(res)"
   ]
  },
  {
   "cell_type": "code",
   "execution_count": null,
   "id": "47a47bb5",
   "metadata": {},
   "outputs": [],
   "source": [
    "#012 Task - Check if 6 == 6."
   ]
  },
  {
   "cell_type": "code",
   "execution_count": 13,
   "id": "53bfe698",
   "metadata": {},
   "outputs": [
    {
     "name": "stdout",
     "output_type": "stream",
     "text": [
      "True\n"
     ]
    }
   ],
   "source": [
    "a = 6 == 6\n",
    "print(a)"
   ]
  },
  {
   "cell_type": "code",
   "execution_count": null,
   "id": "16ea2840",
   "metadata": {},
   "outputs": [],
   "source": [
    "#013 Task - Is the statement 3 != 3 true or false?"
   ]
  },
  {
   "cell_type": "code",
   "execution_count": 14,
   "id": "bfd6d769",
   "metadata": {},
   "outputs": [
    {
     "name": "stdout",
     "output_type": "stream",
     "text": [
      "False\n"
     ]
    }
   ],
   "source": [
    "a = 3 != 3\n",
    "print(a)"
   ]
  },
  {
   "cell_type": "code",
   "execution_count": null,
   "id": "44e91038",
   "metadata": {},
   "outputs": [],
   "source": [
    "#014 Task - Given x = 10 and y = 5, is x > y or x < y?"
   ]
  },
  {
   "cell_type": "code",
   "execution_count": 15,
   "id": "65cbb7b9",
   "metadata": {},
   "outputs": [
    {
     "name": "stdout",
     "output_type": "stream",
     "text": [
      "True\n"
     ]
    }
   ],
   "source": [
    "x = 10\n",
    "y = 5\n",
    "res = x > y or x < y\n",
    "print(res)"
   ]
  },
  {
   "cell_type": "code",
   "execution_count": null,
   "id": "3d5de5f8",
   "metadata": {},
   "outputs": [],
   "source": [
    "#015 Task - Determine the output of \"hello\" == \"Hello\"."
   ]
  },
  {
   "cell_type": "code",
   "execution_count": 16,
   "id": "a118fa3d",
   "metadata": {},
   "outputs": [
    {
     "name": "stdout",
     "output_type": "stream",
     "text": [
      "False\n"
     ]
    }
   ],
   "source": [
    "res = \"hello\" == \"Hello\"\n",
    "print(a)"
   ]
  },
  {
   "cell_type": "code",
   "execution_count": null,
   "id": "182e05a6",
   "metadata": {},
   "outputs": [],
   "source": [
    "#016 Task - What is the result of True and False?"
   ]
  },
  {
   "cell_type": "code",
   "execution_count": 17,
   "id": "a2a4b7c8",
   "metadata": {},
   "outputs": [
    {
     "name": "stdout",
     "output_type": "stream",
     "text": [
      "False\n"
     ]
    }
   ],
   "source": [
    "res = True and False\n",
    "print(res)"
   ]
  },
  {
   "cell_type": "code",
   "execution_count": null,
   "id": "7c09f653",
   "metadata": {},
   "outputs": [],
   "source": [
    "#017 Task - Evaluate the expression: True or False."
   ]
  },
  {
   "cell_type": "code",
   "execution_count": 18,
   "id": "487afcf5",
   "metadata": {},
   "outputs": [
    {
     "name": "stdout",
     "output_type": "stream",
     "text": [
      "True\n"
     ]
    }
   ],
   "source": [
    "res = True or False\n",
    "print(res)"
   ]
  },
  {
   "cell_type": "code",
   "execution_count": null,
   "id": "06468883",
   "metadata": {},
   "outputs": [],
   "source": [
    "#018 Task - Determine the value of not True"
   ]
  },
  {
   "cell_type": "code",
   "execution_count": 19,
   "id": "8d290ae9",
   "metadata": {},
   "outputs": [
    {
     "name": "stdout",
     "output_type": "stream",
     "text": [
      "False\n"
     ]
    }
   ],
   "source": [
    "a = not True\n",
    "print(a)"
   ]
  },
  {
   "cell_type": "code",
   "execution_count": null,
   "id": "8b7b4678",
   "metadata": {},
   "outputs": [],
   "source": [
    "#019 Task -  Is 10 > 5 and 5 < 2 true or false?"
   ]
  },
  {
   "cell_type": "code",
   "execution_count": 20,
   "id": "8ea240a3",
   "metadata": {},
   "outputs": [
    {
     "name": "stdout",
     "output_type": "stream",
     "text": [
      "False\n"
     ]
    }
   ],
   "source": [
    "res = 10 > 5 and 5 < 2\n",
    "print(res)"
   ]
  },
  {
   "cell_type": "code",
   "execution_count": null,
   "id": "28d58efb",
   "metadata": {},
   "outputs": [],
   "source": [
    "#020 Task - Check if (3 == 3) or (4 != 4)."
   ]
  },
  {
   "cell_type": "code",
   "execution_count": 21,
   "id": "d3769407",
   "metadata": {},
   "outputs": [
    {
     "name": "stdout",
     "output_type": "stream",
     "text": [
      "True\n"
     ]
    }
   ],
   "source": [
    "res = (3 == 3) or (4 != 4)\n",
    "print(res)"
   ]
  },
  {
   "cell_type": "code",
   "execution_count": null,
   "id": "b21cd43a",
   "metadata": {},
   "outputs": [],
   "source": [
    "#021 Task - Assign the value 10 to a variable 'x'."
   ]
  },
  {
   "cell_type": "code",
   "execution_count": 22,
   "id": "bf66009f",
   "metadata": {},
   "outputs": [
    {
     "name": "stdout",
     "output_type": "stream",
     "text": [
      "10\n"
     ]
    }
   ],
   "source": [
    "x = 10\n",
    "print(x)"
   ]
  },
  {
   "cell_type": "code",
   "execution_count": null,
   "id": "3ec25c0e",
   "metadata": {},
   "outputs": [],
   "source": [
    "#022 Task - Increment the variable 'x' by 3."
   ]
  },
  {
   "cell_type": "code",
   "execution_count": 29,
   "id": "6381a55e",
   "metadata": {},
   "outputs": [
    {
     "name": "stdout",
     "output_type": "stream",
     "text": [
      "13\n"
     ]
    }
   ],
   "source": [
    "x = 10\n",
    "res = x + 3\n",
    "print(res)"
   ]
  },
  {
   "cell_type": "code",
   "execution_count": 34,
   "id": "f0dd7693",
   "metadata": {},
   "outputs": [],
   "source": [
    "#023 Task - Subtract 5 from the variable 'x'."
   ]
  },
  {
   "cell_type": "code",
   "execution_count": 30,
   "id": "0848f5e9",
   "metadata": {},
   "outputs": [
    {
     "name": "stdout",
     "output_type": "stream",
     "text": [
      "5\n"
     ]
    }
   ],
   "source": [
    "x = 10\n",
    "res = x - 5\n",
    "print(res)"
   ]
  },
  {
   "cell_type": "code",
   "execution_count": null,
   "id": "ffe9faf2",
   "metadata": {},
   "outputs": [],
   "source": [
    "#024 Task - Multiply the variable 'x' by 2."
   ]
  },
  {
   "cell_type": "code",
   "execution_count": 31,
   "id": "9fb41219",
   "metadata": {},
   "outputs": [
    {
     "name": "stdout",
     "output_type": "stream",
     "text": [
      "20\n"
     ]
    }
   ],
   "source": [
    "x = 10\n",
    "res = x * 2\n",
    "print(res)"
   ]
  },
  {
   "cell_type": "code",
   "execution_count": null,
   "id": "90d9bbc0",
   "metadata": {},
   "outputs": [],
   "source": [
    "#025 Task - Divide the variable 'x' by 4."
   ]
  },
  {
   "cell_type": "code",
   "execution_count": 33,
   "id": "b5e50eb9",
   "metadata": {},
   "outputs": [
    {
     "name": "stdout",
     "output_type": "stream",
     "text": [
      "12.0\n"
     ]
    }
   ],
   "source": [
    "x = 48\n",
    "res = x / 4\n",
    "print(res)"
   ]
  },
  {
   "cell_type": "code",
   "execution_count": null,
   "id": "0452196f",
   "metadata": {},
   "outputs": [],
   "source": [
    "#026 Task - Calculate the modulus of 'x' with 3."
   ]
  },
  {
   "cell_type": "code",
   "execution_count": 36,
   "id": "621b1fd1",
   "metadata": {},
   "outputs": [
    {
     "name": "stdout",
     "output_type": "stream",
     "text": [
      "2\n"
     ]
    }
   ],
   "source": [
    "x = 47\n",
    "res = x % 3\n",
    "print(res)"
   ]
  },
  {
   "cell_type": "code",
   "execution_count": null,
   "id": "fb42a5fd",
   "metadata": {},
   "outputs": [],
   "source": [
    "#027 Task - Perform an exponentiation operation on 'x' with 2."
   ]
  },
  {
   "cell_type": "code",
   "execution_count": 37,
   "id": "570544a9",
   "metadata": {},
   "outputs": [
    {
     "name": "stdout",
     "output_type": "stream",
     "text": [
      "64\n"
     ]
    }
   ],
   "source": [
    "x = 8\n",
    "res = x** 2\n",
    "print(res)"
   ]
  },
  {
   "cell_type": "code",
   "execution_count": null,
   "id": "722df3dc",
   "metadata": {},
   "outputs": [],
   "source": [
    "#034 Task - Check if the element 3 is present in the list [1, 2, 3, 4, 5]."
   ]
  },
  {
   "cell_type": "code",
   "execution_count": 1,
   "id": "1adb8348",
   "metadata": {},
   "outputs": [
    {
     "name": "stdout",
     "output_type": "stream",
     "text": [
      "True\n"
     ]
    }
   ],
   "source": [
    "a = [1,2,3,4,5]\n",
    "res = 3 in a\n",
    "print(res)"
   ]
  },
  {
   "cell_type": "code",
   "execution_count": null,
   "id": "23217241",
   "metadata": {},
   "outputs": [],
   "source": [
    "#035 Task - Determine if the character 'a' exists in the string \"hello\"."
   ]
  },
  {
   "cell_type": "code",
   "execution_count": 14,
   "id": "53f633e1",
   "metadata": {},
   "outputs": [
    {
     "name": "stdout",
     "output_type": "stream",
     "text": [
      "False\n"
     ]
    }
   ],
   "source": [
    "name = \" Hello \"\n",
    "res1 = a in name\n",
    "print(res)"
   ]
  },
  {
   "cell_type": "code",
   "execution_count": 15,
   "id": "00ba3a55",
   "metadata": {},
   "outputs": [],
   "source": [
    "#036 Task - Check if the key 'age' is present in the dictionary {'name': 'John', 'age': 30}."
   ]
  },
  {
   "cell_type": "code",
   "execution_count": 19,
   "id": "73642952",
   "metadata": {},
   "outputs": [
    {
     "name": "stdout",
     "output_type": "stream",
     "text": [
      "30\n"
     ]
    }
   ],
   "source": [
    "a = {'name': 'John', 'age': 30}\n",
    "print(a['age'])"
   ]
  },
  {
   "cell_type": "code",
   "execution_count": null,
   "id": "b84817fa",
   "metadata": {},
   "outputs": [],
   "source": [
    "#039 Task - Evaluate the expression: 5 + 3 * 2"
   ]
  },
  {
   "cell_type": "code",
   "execution_count": 38,
   "id": "70375904",
   "metadata": {},
   "outputs": [
    {
     "name": "stdout",
     "output_type": "stream",
     "text": [
      "11\n"
     ]
    }
   ],
   "source": [
    "ping = 5 + 3 * 2\n",
    "print(ping)"
   ]
  },
  {
   "cell_type": "code",
   "execution_count": null,
   "id": "7465522a",
   "metadata": {},
   "outputs": [],
   "source": [
    "#040 Task - Calculate the value of (10 + 3) * 2."
   ]
  },
  {
   "cell_type": "code",
   "execution_count": 39,
   "id": "b4acffee",
   "metadata": {},
   "outputs": [
    {
     "name": "stdout",
     "output_type": "stream",
     "text": [
      "26\n"
     ]
    }
   ],
   "source": [
    "m = (10 + 3) * 2\n",
    "print(m)"
   ]
  },
  {
   "cell_type": "code",
   "execution_count": null,
   "id": "87c1996d",
   "metadata": {},
   "outputs": [],
   "source": [
    "#041 Task - What is the result of 10 + 3 / 2?"
   ]
  },
  {
   "cell_type": "code",
   "execution_count": 40,
   "id": "dad5fddb",
   "metadata": {},
   "outputs": [
    {
     "name": "stdout",
     "output_type": "stream",
     "text": [
      "11.5\n"
     ]
    }
   ],
   "source": [
    "n = 10 + 3 / 2\n",
    "print(n)"
   ]
  },
  {
   "cell_type": "code",
   "execution_count": null,
   "id": "2aaf8ea5",
   "metadata": {},
   "outputs": [],
   "source": [
    "#042 Task - Determine the output of 8 - 4 + 2."
   ]
  },
  {
   "cell_type": "code",
   "execution_count": 41,
   "id": "b75e4a3a",
   "metadata": {},
   "outputs": [
    {
     "name": "stdout",
     "output_type": "stream",
     "text": [
      "6\n"
     ]
    }
   ],
   "source": [
    "o = 8 - 4 + 2\n",
    "print(o)"
   ]
  },
  {
   "cell_type": "code",
   "execution_count": null,
   "id": "ad67e045",
   "metadata": {},
   "outputs": [],
   "source": [
    "#043 Task - Check if 10 is between 5 and 15"
   ]
  },
  {
   "cell_type": "code",
   "execution_count": 21,
   "id": "d62cd3e8",
   "metadata": {},
   "outputs": [
    {
     "data": {
      "text/plain": [
       "True"
      ]
     },
     "execution_count": 21,
     "metadata": {},
     "output_type": "execute_result"
    }
   ],
   "source": [
    "r = range(5,15)\n",
    "10 in r \n"
   ]
  },
  {
   "cell_type": "code",
   "execution_count": null,
   "id": "be08c4c9",
   "metadata": {},
   "outputs": [],
   "source": [
    "#044 Task - Determine if a number is positive and even."
   ]
  },
  {
   "cell_type": "code",
   "execution_count": 32,
   "id": "a7f6d80d",
   "metadata": {},
   "outputs": [
    {
     "name": "stdout",
     "output_type": "stream",
     "text": [
      "1 = Odd Number\n",
      "2 = Even Number\n",
      "3 = Odd Number\n",
      "4 = Even Number\n",
      "5 = Odd Number\n",
      "6 = Even Number\n",
      "7 = Odd Number\n",
      "8 = Even Number\n",
      "9 = Odd Number\n",
      "10 = Even Number\n",
      "11 = Odd Number\n",
      "12 = Even Number\n",
      "13 = Odd Number\n",
      "14 = Even Number\n",
      "15 = Odd Number\n",
      "16 = Even Number\n",
      "17 = Odd Number\n",
      "18 = Even Number\n",
      "19 = Odd Number\n",
      "20 = Even Number\n"
     ]
    }
   ],
   "source": [
    "for i in range(1,21):\n",
    "    if i%2==0:\n",
    "        print(i ,\"=\",\"Even Number\")\n",
    "    else :\n",
    "         print(i,\"=\",\"Odd Number\")"
   ]
  },
  {
   "cell_type": "code",
   "execution_count": null,
   "id": "57c48240",
   "metadata": {},
   "outputs": [],
   "source": [
    "#045 Task - Check if a character is a lowercase letter and not a vowel"
   ]
  },
  {
   "cell_type": "code",
   "execution_count": 58,
   "id": "cfbb49f0",
   "metadata": {},
   "outputs": [
    {
     "name": "stdout",
     "output_type": "stream",
     "text": [
      "k is lower case\n",
      "c is lower case\n",
      "n is lower case\n",
      "h is lower case\n",
      "j is lower case\n",
      "m is lower case\n",
      "l is lower case\n",
      "k is lower case\n",
      "f is lower case\n",
      "j is lower case\n",
      "d is lower case\n"
     ]
    }
   ],
   "source": [
    "name = \"ANkcnhjmlkfjdASGOUE\"\n",
    "for i in name :\n",
    "    if i.islower() :\n",
    "        print(i,\"is lower case\")\n",
    "        if (i == \"a\" or i==\"e\" or i==\"i\" or i==\"o\" or i==\"u\") :\n",
    "            print(i, \"is vowel and also lower case\" )\n",
    "    \n",
    "    \n",
    "    \n",
    "        "
   ]
  },
  {
   "cell_type": "code",
   "execution_count": null,
   "id": "801f49e3",
   "metadata": {},
   "outputs": [],
   "source": [
    "#050 Task -Write a Python program that takes two numbers as input and prints their sum if both numbers are positive, otherwise prints \"Invalid input.\""
   ]
  },
  {
   "cell_type": "code",
   "execution_count": 11,
   "id": "7218e0e5",
   "metadata": {},
   "outputs": [
    {
     "name": "stdout",
     "output_type": "stream",
     "text": [
      "Enter the first number -2\n",
      "Enter the second number -9\n",
      "Invalid input\n"
     ]
    }
   ],
   "source": [
    "num1=int(input(\"Enter the first number \"))\n",
    "num2=int(input(\"Enter the second number \"))\n",
    "\n",
    "res=num1+num2\n",
    "\n",
    "if num1>=0 and num2>=0:\n",
    "    print(num1,\" + \",num2,\" = \" ,res)\n",
    "else : \n",
    "    print(\"Invalid input\")\n"
   ]
  },
  {
   "cell_type": "code",
   "execution_count": null,
   "id": "9a9001d3",
   "metadata": {},
   "outputs": [],
   "source": [
    "#047 Task - Use the ternary operator to assign the value 10 to 'x' if 'y' is True, otherwise assign 5"
   ]
  },
  {
   "cell_type": "code",
   "execution_count": 1,
   "id": "a99a52b7",
   "metadata": {},
   "outputs": [
    {
     "name": "stdout",
     "output_type": "stream",
     "text": [
      "10\n"
     ]
    }
   ],
   "source": [
    "y = True\n",
    "x = 10 if y else 5\n",
    "print(x)"
   ]
  },
  {
   "cell_type": "code",
   "execution_count": null,
   "id": "acdfd705",
   "metadata": {},
   "outputs": [],
   "source": [
    "#048 Task - Discuss the precedence of arithmetic, comparison, and logical operators"
   ]
  },
  {
   "cell_type": "code",
   "execution_count": null,
   "id": "93db6791",
   "metadata": {},
   "outputs": [],
   "source": [
    "#Arithmetic operators take precedence over logical operators. \n",
    "#Python will always evaluate the arithmetic operators first (** is highest, then multiplication/division, then addition/subtraction). Next comes the relational/comparision operators. \n",
    "#Finally, the logical operators are done last. "
   ]
  },
  {
   "cell_type": "code",
   "execution_count": null,
   "id": "f4069939",
   "metadata": {},
   "outputs": [],
   "source": [
    "#049 Task - Explain the concept of operator overloading in Python with an example."
   ]
  },
  {
   "cell_type": "code",
   "execution_count": null,
   "id": "2a08f8c3",
   "metadata": {},
   "outputs": [],
   "source": [
    "#Operator Overloading means giving extended meaning beyond their predefined operational meaning. \n",
    "#For example operator + is used to add two integers as well as join two strings and merge two lists. \n",
    "#It is achievable because ‘+’ operator is overloaded by int class and str class"
   ]
  },
  {
   "cell_type": "code",
   "execution_count": 1,
   "id": "3d9bf9de",
   "metadata": {},
   "outputs": [
    {
     "name": "stdout",
     "output_type": "stream",
     "text": [
      "3\n",
      "12\n",
      "Manjunath\n",
      "ManjuManjuManjuManju\n"
     ]
    }
   ],
   "source": [
    "print(1+2)\n",
    "print(3*4)\n",
    "print(\"Manju\"+\"nath\")\n",
    "print(\"Manju\"*4)"
   ]
  },
  {
   "cell_type": "code",
   "execution_count": null,
   "id": "0ae4214a",
   "metadata": {},
   "outputs": [],
   "source": []
  }
 ],
 "metadata": {
  "kernelspec": {
   "display_name": "Python 3 (ipykernel)",
   "language": "python",
   "name": "python3"
  },
  "language_info": {
   "codemirror_mode": {
    "name": "ipython",
    "version": 3
   },
   "file_extension": ".py",
   "mimetype": "text/x-python",
   "name": "python",
   "nbconvert_exporter": "python",
   "pygments_lexer": "ipython3",
   "version": "3.11.3"
  }
 },
 "nbformat": 4,
 "nbformat_minor": 5
}
